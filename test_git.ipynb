{
 "cells": [
  {
   "cell_type": "code",
   "execution_count": 7,
   "id": "0c53e34d-f274-4a20-b4c3-356eb28072a9",
   "metadata": {},
   "outputs": [],
   "source": [
    "import pandas as pd"
   ]
  },
  {
   "cell_type": "code",
   "execution_count": 8,
   "id": "312acdaa-a09a-4fb6-abb4-8d49036f059b",
   "metadata": {},
   "outputs": [],
   "source": [
    "test_df = pd.DataFrame({\"power\": [10, 20, 25], \"speed\": [20,20,15], \"sp\": [30,15,20]}, index=[\"pikachu\", \"hibanie\", \"gengar\"])"
   ]
  },
  {
   "cell_type": "code",
   "execution_count": 9,
   "id": "43dfe47c-edb2-4e48-832e-f81a874bee53",
   "metadata": {},
   "outputs": [
    {
     "name": "stdout",
     "output_type": "stream",
     "text": [
      "         power  speed  sp\n",
      "pikachu     10     20  30\n",
      "hibanie     20     20  15\n",
      "gengar      25     15  20\n",
      "<class 'pandas.core.frame.DataFrame'>\n",
      "Index: 3 entries, pikachu to gengar\n",
      "Data columns (total 3 columns):\n",
      " #   Column  Non-Null Count  Dtype\n",
      "---  ------  --------------  -----\n",
      " 0   power   3 non-null      int64\n",
      " 1   speed   3 non-null      int64\n",
      " 2   sp      3 non-null      int64\n",
      "dtypes: int64(3)\n",
      "memory usage: 96.0+ bytes\n",
      "None\n"
     ]
    }
   ],
   "source": [
    "print(test_df)\n",
    "print(test_df.info())"
   ]
  },
  {
   "cell_type": "code",
   "execution_count": 10,
   "id": "965e3e44-b02b-4e7e-b8cd-439652bc16d5",
   "metadata": {},
   "outputs": [],
   "source": [
    "#test_df = pd.concat([test_df, pd.DataFrame({\"power\": [30], \"speed\": [30], \"sp\": [10]}, index=[\"iwa-ku\"])])"
   ]
  },
  {
   "cell_type": "code",
   "execution_count": null,
   "id": "50562a10-48bb-4977-9236-d8700a69a744",
   "metadata": {},
   "outputs": [],
   "source": []
  }
 ],
 "metadata": {
  "kernelspec": {
   "display_name": "Python 3 (ipykernel)",
   "language": "python",
   "name": "python3"
  },
  "language_info": {
   "codemirror_mode": {
    "name": "ipython",
    "version": 3
   },
   "file_extension": ".py",
   "mimetype": "text/x-python",
   "name": "python",
   "nbconvert_exporter": "python",
   "pygments_lexer": "ipython3",
   "version": "3.9.11"
  }
 },
 "nbformat": 4,
 "nbformat_minor": 5
}
