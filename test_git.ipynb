{
 "cells": [
  {
   "cell_type": "code",
   "execution_count": 5,
   "id": "0c53e34d-f274-4a20-b4c3-356eb28072a9",
   "metadata": {},
   "outputs": [],
   "source": [
    "import pandas as pd"
   ]
  },
  {
   "cell_type": "code",
   "execution_count": 6,
   "id": "312acdaa-a09a-4fb6-abb4-8d49036f059b",
   "metadata": {},
   "outputs": [],
   "source": [
    "test_df = pd.DataFrame({\"power\": [10, 20, 25], \"speed\": [20,20,15], \"sp\": [30,15,20]}, index=[\"pikachu\", \"hibanie\", \"gengar\"])"
   ]
  },
  {
   "cell_type": "code",
   "execution_count": 7,
   "id": "965e3e44-b02b-4e7e-b8cd-439652bc16d5",
   "metadata": {},
   "outputs": [],
   "source": [
    "test_df = pd.concat([test_df, pd.DataFrame({\"power\": [30], \"speed\": [30], \"sp\": [10]}, index=[\"iwa-ku\"])])"
   ]
  },
  {
   "cell_type": "code",
   "execution_count": 8,
   "id": "1fa09dab-c65d-428d-87dc-82c2ef308712",
   "metadata": {},
   "outputs": [],
   "source": [
    "test_df = pd.concat([test_df, pd.DataFrame({\"power\": [20], \"speed\": [25], \"sp\": [50]}, index=[\"Myu\"])])"
   ]
  },
  {
   "cell_type": "code",
   "execution_count": 21,
   "id": "5a5f98a4-e671-40a3-9566-310e2b696579",
   "metadata": {},
   "outputs": [],
   "source": [
    "test_df = pd.merge(test_df, pd.DataFrame({\"potential\":[50, 40, 30, 15, 20]}, index=[\"pikachu\", \"hibanie\", \"gengar\", \"iwa-ku\", \"Myu\"]), left_index=True, right_index=True)"
   ]
  },
  {
   "cell_type": "code",
   "execution_count": 25,
   "id": "12f628e1-2746-4167-ad1c-04208eb4a6ae",
   "metadata": {},
   "outputs": [],
   "source": [
    "test_df[\"Total\"] = test_df.sum(axis=1)"
   ]
  },
  {
   "cell_type": "code",
   "execution_count": 30,
   "id": "8f8c05f1-edd6-4484-b16f-a8422cb24acd",
   "metadata": {},
   "outputs": [],
   "source": [
    "test_df = pd.concat([test_df, pd.DataFrame({\"power\": [20], \"speed\": [25], \"sp\": [50], \"potential\": [30], \"Total\": [20+25+50+30] }, index=[\"Riol\"])])"
   ]
  },
  {
   "cell_type": "code",
   "execution_count": 36,
   "id": "5d66b328-4753-4b2d-aaad-2322e1351291",
   "metadata": {},
   "outputs": [],
   "source": [
    "test_df[\"rank\"] = test_df[\"Total\"].rank(ascending=False)"
   ]
  },
  {
   "cell_type": "code",
   "execution_count": 40,
   "id": "016e8387-d820-4054-86c9-ca33c3feb578",
   "metadata": {},
   "outputs": [],
   "source": [
    "test_df = test_df.rename(columns={\"Total\": \"total\"})"
   ]
  },
  {
   "cell_type": "code",
   "execution_count": 42,
   "id": "aea6bf94-b9f9-4a6f-87e0-24f4e49462c2",
   "metadata": {},
   "outputs": [],
   "source": [
    "test_df = test_df.rename(index={\"Myu\": \"myu\", \"Riol\": \"riol\"})"
   ]
  },
  {
   "cell_type": "code",
   "execution_count": null,
   "id": "7fdb6c95-4729-4259-987b-354143f49b63",
   "metadata": {},
   "outputs": [],
   "source": []
  },
  {
   "cell_type": "code",
   "execution_count": 43,
   "id": "f626c736-3a0d-44d8-a699-d17514b1ec0d",
   "metadata": {},
   "outputs": [
    {
     "name": "stdout",
     "output_type": "stream",
     "text": [
      "         power  speed  sp  potential  total  rank\n",
      "pikachu     10     20  30         50    110   3.0\n",
      "hibanie     20     20  15         40     95   4.0\n",
      "gengar      25     15  20         30     90   5.0\n",
      "iwa-ku      30     30  10         15     85   6.0\n",
      "myu         20     25  50         20    115   2.0\n",
      "riol        20     25  50         30    125   1.0\n",
      "<class 'pandas.core.frame.DataFrame'>\n",
      "Index: 6 entries, pikachu to riol\n",
      "Data columns (total 6 columns):\n",
      " #   Column     Non-Null Count  Dtype  \n",
      "---  ------     --------------  -----  \n",
      " 0   power      6 non-null      int64  \n",
      " 1   speed      6 non-null      int64  \n",
      " 2   sp         6 non-null      int64  \n",
      " 3   potential  6 non-null      int64  \n",
      " 4   total      6 non-null      int64  \n",
      " 5   rank       6 non-null      float64\n",
      "dtypes: float64(1), int64(5)\n",
      "memory usage: 336.0+ bytes\n",
      "None\n"
     ]
    }
   ],
   "source": [
    "print(test_df)\n",
    "print(test_df.info())"
   ]
  },
  {
   "cell_type": "code",
   "execution_count": null,
   "id": "6107546e-4dac-485c-b611-23b94bee00d5",
   "metadata": {},
   "outputs": [],
   "source": []
  }
 ],
 "metadata": {
  "kernelspec": {
   "display_name": "Python 3 (ipykernel)",
   "language": "python",
   "name": "python3"
  },
  "language_info": {
   "codemirror_mode": {
    "name": "ipython",
    "version": 3
   },
   "file_extension": ".py",
   "mimetype": "text/x-python",
   "name": "python",
   "nbconvert_exporter": "python",
   "pygments_lexer": "ipython3",
   "version": "3.9.11"
  }
 },
 "nbformat": 4,
 "nbformat_minor": 5
}
